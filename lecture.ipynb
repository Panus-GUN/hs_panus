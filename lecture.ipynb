{
 "cells": [
  {
   "cell_type": "markdown",
   "metadata": {},
   "source": [
    "# Data Type"
   ]
  },
  {
   "cell_type": "markdown",
   "metadata": {},
   "source": [
    "#FLOAT (float)\n",
    "\n",
    "gpa = 4.00\n",
    "distance = 2.5 \n",
    "price = 10.90\n",
    "\n",
    "print(f\"Your gpa is {gpa}\")\n",
    "print(f\"You ran {distance}Km\")\n",
    "print(f\"The price is ${price}\")\n",
    "\n",
    "#with the number that contain a decimal portion"
   ]
  },
  {
   "cell_type": "markdown",
   "metadata": {},
   "source": [
    "#STRING 9(str)\n",
    "\n",
    "name = \"Bro\"\n",
    "food = \"pizza\"\n",
    "eamil = \"Bro123@gmail.com\"\n",
    "\n",
    "print(f\"Hello{name}\")\n",
    "print(f\"You like {food}\")\n",
    "print(f\"Your email is: {email}\")\n",
    "\n",
    "#series of text like a name or an eamil \n",
    "letters, numbers, symbols"
   ]
  },
  {
   "cell_type": "markdown",
   "metadata": {},
   "source": [
    "#BOOLEAN (bool)\n",
    "\n",
    "online = True\n",
    "for_sale = False \n",
    "running = true \n",
    "\n",
    "print(f\"Are you online?: {online}\")\n",
    "print(f\"Is this item for sale: {for_sale}\")\n",
    "print(f\"Game running: {running}\")\n",
    "\n",
    "#True or Fale they are binary "
   ]
  },
  {
   "cell_type": "markdown",
   "metadata": {},
   "source": [
    "print(\"nona = none \")"
   ]
  },
  {
   "cell_type": "markdown",
   "metadata": {},
   "source": [
    "\"\"\"\n",
    "this is multiple line code format \n",
    "this is multiple line code format \n",
    "this is multiple line code format \n",
    "\"\"\"\n",
    "\n"
   ]
  },
  {
   "cell_type": "markdown",
   "metadata": {},
   "source": [
    "# Type Checking\n",
    "\n",
    "type(put here)\n",
    "\n",
    "Example ; \n",
    "\n",
    "type(5)\n",
    "print(type(5))\n",
    "print(\"Helo I'm Gun newbie for coding\")\n",
    "isinstance(-1, int)"
   ]
  },
  {
   "cell_type": "markdown",
   "metadata": {},
   "source": []
  }
 ],
 "metadata": {
  "kernelspec": {
   "display_name": "base",
   "language": "python",
   "name": "python3"
  },
  "language_info": {
   "codemirror_mode": {
    "name": "ipython",
    "version": 3
   },
   "file_extension": ".py",
   "mimetype": "text/x-python",
   "name": "python",
   "nbconvert_exporter": "python",
   "pygments_lexer": "ipython3",
   "version": "3.12.6"
  }
 },
 "nbformat": 4,
 "nbformat_minor": 2
}
