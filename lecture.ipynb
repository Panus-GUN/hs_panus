{
 "cells": [
  {
   "cell_type": "markdown",
   "metadata": {},
   "source": [
    "# Data Type "
   ]
  },
  {
   "cell_type": "code",
   "execution_count": null,
   "metadata": {},
   "outputs": [],
   "source": [
    "#INTEGER (int)\n",
    "\n",
    "age = 19\n",
    "palyers = 2\n",
    "quantity = 5\n",
    "\n",
    "print(f\"You are {age} year old\")\n",
    "print(f\"There are {palyers} players online\")\n",
    "print(f\"You would like to buy {quantityz} items\")\n",
    "\n",
    "#with the whole number \n",
    "Addition: x + y\n",
    "Subtraction: x - y\n",
    "Multiplication: x * y\n",
    "Division (which results in a float): x / y\n",
    "Modulus (remainder of division): x % y"
   ]
  },
  {
   "cell_type": "code",
   "execution_count": null,
   "metadata": {},
   "outputs": [],
   "source": [
    "#FLOAT (float)\n",
    "\n",
    "gpa = 4.00\n",
    "distance = 2.5 \n",
    "price = 10.90\n",
    "\n",
    "print(f\"Your gpa is {gpa}\")\n",
    "print(f\"You ran {distance}Km\")\n",
    "print(f\"The price is ${price}\")\n",
    "\n",
    "#with the number that contain a decimal portion\n"
   ]
  },
  {
   "cell_type": "code",
   "execution_count": null,
   "metadata": {},
   "outputs": [],
   "source": [
    "nona = none "
   ]
  },
  {
   "cell_type": "code",
   "execution_count": null,
   "metadata": {},
   "outputs": [],
   "source": [
    "#STRING 9(str)\n",
    "\n",
    "name = \"Bro\"\n",
    "food = \"pizza\"\n",
    "eamil = \"Bro123@gmail.com\"\n",
    "\n",
    "print(f\"Hello{name}\")\n",
    "print(f\"You like {food}\")\n",
    "print(f\"Your email is: {email}\")\n",
    "\n",
    "#series of text like a name or an eamil \n",
    "letters, numbers, symbols"
   ]
  },
  {
   "cell_type": "code",
   "execution_count": null,
   "metadata": {},
   "outputs": [],
   "source": [
    "#BOOLEAN (bool)\n",
    "\n",
    "online = True\n",
    "for_sale = False \n",
    "running = true \n",
    "\n",
    "print(f\"Are you online?: {online}\")\n",
    "print(f\"Is this item for sale: {for_sale}\")\n",
    "print(f\"Game running: {running}\")\n",
    "\n",
    "#True or Fale they are binary "
   ]
  },
  {
   "cell_type": "code",
   "execution_count": null,
   "metadata": {},
   "outputs": [],
   "source": [
    "\"\"\"\n",
    "this is multiple line code format \n",
    "this is multiple line code format \n",
    "this is multiple line code format \n",
    "\"\"\"\n",
    "\n",
    "#type checking \n",
    "\n",
    "type(that you want to check)\n",
    "\n",
    "#example : \n",
    "type(3)\n",
    "print(type(3))\n",
    "print(\"gun kub\")\n",
    "isinstance(-1, int)"
   ]
  }
 ],
 "metadata": {
  "kernelspec": {
   "display_name": "base",
   "language": "python",
   "name": "python3"
  },
  "language_info": {
   "codemirror_mode": {
    "name": "ipython",
    "version": 3
   },
   "file_extension": ".py",
   "mimetype": "text/x-python",
   "name": "python",
   "nbconvert_exporter": "python",
   "pygments_lexer": "ipython3",
   "version": "3.12.6"
  }
 },
 "nbformat": 4,
 "nbformat_minor": 2
}
