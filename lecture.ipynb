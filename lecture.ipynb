{
 "cells": [
  {
   "cell_type": "markdown",
   "metadata": {},
   "source": [
    "# Data Type "
   ]
  },
  {
   "cell_type": "code",
   "execution_count": 24,
   "metadata": {},
   "outputs": [
    {
     "name": "stdout",
     "output_type": "stream",
     "text": [
      "INTEGER (int)\n",
      "is the whole number \n",
      "+ , - , * , / , %\n",
      "FLOAT (float)\n",
      "\n"
     ]
    }
   ],
   "source": [
    "print(\"INTEGER (int)\")\n",
    "print(\"is the whole number \")\n",
    "print(\"+ , - , * , / , %\")"
   ]
  },
  {
   "cell_type": "code",
   "execution_count": 26,
   "metadata": {},
   "outputs": [
    {
     "name": "stdout",
     "output_type": "stream",
     "text": [
      "FLOAT (float)\n",
      "that the number that contain a decimal portion\n",
      "Example : 10.99 , 3.56 \n"
     ]
    }
   ],
   "source": [
    "print(\"FLOAT (float)\")\n",
    "print(\"that the number that contain a decimal portion\")\n",
    "print(\"Example : 10.99 , 3.56 \")\n"
   ]
  },
  {
   "cell_type": "code",
   "execution_count": 27,
   "metadata": {},
   "outputs": [
    {
     "name": "stdout",
     "output_type": "stream",
     "text": [
      "STRING 9(str)\n",
      "series of text like a name or an eamil \n",
      "letters, numbers, symbols\n",
      "Example : Bro, Bro123@gmail.com\n"
     ]
    }
   ],
   "source": [
    "print(\"STRING 9(str)\")\n",
    "print(\"series of text like a name or an eamil \")\n",
    "print(\"letters, numbers, symbols\")\n",
    "print(\"Example : Bro, Bro123@gmail.com\")\n"
   ]
  },
  {
   "cell_type": "code",
   "execution_count": 29,
   "metadata": {},
   "outputs": [
    {
     "name": "stdout",
     "output_type": "stream",
     "text": [
      "BOOLEAN (bool)\n",
      "True or Fale they are binary \n",
      "Example\n",
      "online = True\n",
      "for_sale = False \n",
      "running = True \n"
     ]
    }
   ],
   "source": [
    "print(\"BOOLEAN (bool)\")\n",
    "print(\"True or Fale they are binary \")\n",
    "print(\"Example\")\n",
    "print(\"online = True\")\n",
    "print(\"for_sale = False \")\n",
    "print(\"running = True \")"
   ]
  },
  {
   "cell_type": "code",
   "execution_count": 30,
   "metadata": {},
   "outputs": [
    {
     "name": "stdout",
     "output_type": "stream",
     "text": [
      "nona = none \n"
     ]
    }
   ],
   "source": [
    "print(\"nona = none \")"
   ]
  },
  {
   "cell_type": "code",
   "execution_count": 37,
   "metadata": {},
   "outputs": [
    {
     "data": {
      "text/plain": [
       "'\\nthis is multiple line code format \\nthis is multiple line code format \\nthis is multiple line code format \\n'"
      ]
     },
     "execution_count": 37,
     "metadata": {},
     "output_type": "execute_result"
    }
   ],
   "source": [
    "\"\"\"\n",
    "this is multiple line code format \n",
    "this is multiple line code format \n",
    "this is multiple line code format \n",
    "\"\"\"\n",
    "\n"
   ]
  }
 ],
 "metadata": {
  "kernelspec": {
   "display_name": "base",
   "language": "python",
   "name": "python3"
  },
  "language_info": {
   "codemirror_mode": {
    "name": "ipython",
    "version": 3
   },
   "file_extension": ".py",
   "mimetype": "text/x-python",
   "name": "python",
   "nbconvert_exporter": "python",
   "pygments_lexer": "ipython3",
   "version": "3.12.6"
  }
 },
 "nbformat": 4,
 "nbformat_minor": 2
}
