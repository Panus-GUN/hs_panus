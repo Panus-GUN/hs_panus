{
 "cells": [
  {
   "cell_type": "markdown",
   "metadata": {},
   "source": [
    "# Data Type"
   ]
  },
  {
   "cell_type": "markdown",
   "metadata": {},
   "source": [
    "##FLOAT (float)\n",
    "\n",
    "Example :\n",
    "gpa = 4.00\n",
    "distance = 2.5 \n",
    "price = 10.90\n",
    "\n",
    "print(f\"Your gpa is {gpa}\")\n",
    "print(f\"You ran {distance}Km\")\n",
    "print(f\"The price is ${price}\")\n",
    "\n",
    "with the number that contain a decimal portion"
   ]
  },
  {
   "cell_type": "markdown",
   "metadata": {},
   "source": [
    "##STRING 9(str)\n",
    "\n",
    "Example :\n",
    "name = \"Bro\"\n",
    "food = \"pizza\"\n",
    "eamil = \"Bro123@gmail.com\"\n",
    "\n",
    "print(f\"Hello{name}\")\n",
    "print(f\"You like {food}\")\n",
    "print(f\"Your email is: {email}\")\n",
    "\n",
    "series of text like a name or an eamil \n",
    "letters, numbers, symbols"
   ]
  },
  {
   "cell_type": "markdown",
   "metadata": {},
   "source": [
    "##BOOLEAN (bool)\n",
    "\n",
    "Example :\n",
    "online = True\n",
    "for_sale = False \n",
    "running = true \n",
    "\n",
    "print(f\"Are you online?: {online}\")\n",
    "print(f\"Is this item for sale: {for_sale}\")\n",
    "print(f\"Game running: {running}\")\n",
    "\n",
    "True or Fale they are binary "
   ]
  },
  {
   "cell_type": "markdown",
   "metadata": {},
   "source": [
    "print(\"nona = none \")"
   ]
  },
  {
   "cell_type": "markdown",
   "metadata": {},
   "source": [
    "\"\"\"\n",
    "this is multiple line code format \n",
    "this is multiple line code format \n",
    "this is multiple line code format \n",
    "\"\"\"\n",
    "\n"
   ]
  },
  {
   "cell_type": "markdown",
   "metadata": {},
   "source": [
    "## Type Checking\n",
    "\n",
    "type(put here)\n",
    "\n",
    "Example ; \n",
    "\n",
    "type(5)\n",
    "print(type(5))\n",
    "print(\"Helo I'm Gun newbie for coding\")\n",
    "isinstance(-1, int)"
   ]
  },
  {
   "cell_type": "markdown",
   "metadata": {},
   "source": [
    "### LOOP"
   ]
  },
  {
   "cell_type": "code",
   "execution_count": 1,
   "metadata": {},
   "outputs": [
    {
     "name": "stdout",
     "output_type": "stream",
     "text": [
      "apple\n",
      "banana\n",
      "cherry\n"
     ]
    }
   ],
   "source": [
    "#การ วนลูบ\n",
    "fruits = [\"apple\", \"banana\", \"cherry\"]\n",
    "for x in fruits:\n",
    "    print(x) #คือการ print str ที่อยู่ใน list \n"
   ]
  },
  {
   "cell_type": "code",
   "execution_count": 2,
   "metadata": {},
   "outputs": [
    {
     "name": "stdout",
     "output_type": "stream",
     "text": [
      "b\n",
      "a\n",
      "n\n",
      "a\n",
      "n\n",
      "a\n"
     ]
    }
   ],
   "source": [
    "#การ วนลูบ\n",
    "for x in \"banana\":\n",
    "    print(x)"
   ]
  },
  {
   "cell_type": "markdown",
   "metadata": {},
   "source": [
    "## การออกจาก loop\n",
    "### จะอ่านจาก str แรกลงมา แล้วค่อยขึ้นไปอ่านตัวที่สอง"
   ]
  },
  {
   "cell_type": "code",
   "execution_count": 3,
   "metadata": {},
   "outputs": [
    {
     "name": "stdout",
     "output_type": "stream",
     "text": [
      "apple\n",
      "banana\n"
     ]
    }
   ],
   "source": [
    "#print if break\n",
    "fruits = [\"apple\", \"banana\", \"cherry\"]\n",
    "for x in fruits:\n",
    "    print(x)\n",
    "    if x == \"banana\": #สั่งว่าเมื่อเจอคำนั้นให้ออกจาก loop \n",
    "        break"
   ]
  },
  {
   "cell_type": "code",
   "execution_count": 4,
   "metadata": {},
   "outputs": [
    {
     "name": "stdout",
     "output_type": "stream",
     "text": [
      "apple\n"
     ]
    }
   ],
   "source": [
    "#if break print \n",
    "fruits = [\"apple\", \"banana\", \"cherry\"]\n",
    "for x in fruits:\n",
    "    if x == \"banana\":\n",
    "        break\n",
    "    print(x)"
   ]
  },
  {
   "cell_type": "code",
   "execution_count": 12,
   "metadata": {},
   "outputs": [
    {
     "name": "stdout",
     "output_type": "stream",
     "text": [
      "HI\n"
     ]
    }
   ],
   "source": [
    "#if continue print\n",
    "fruits = (\"apple\", \"banana\", \"cherry\", \"HI\")\n",
    "for x in fruits:\n",
    "    if x == \"banana\":\n",
    "        continue\n",
    "print(x)"
   ]
  },
  {
   "cell_type": "markdown",
   "metadata": {},
   "source": [
    "### While Loop"
   ]
  },
  {
   "cell_type": "code",
   "execution_count": 8,
   "metadata": {},
   "outputs": [
    {
     "name": "stdout",
     "output_type": "stream",
     "text": [
      "1\n",
      "2\n",
      "3\n",
      "4\n",
      "5\n"
     ]
    }
   ],
   "source": [
    "#print the number increasing \n",
    "number = 1\n",
    "while number <= 5:\n",
    "        print(number)\n",
    "        number += 1 #number = number +1 "
   ]
  },
  {
   "cell_type": "markdown",
   "metadata": {},
   "source": [
    "### For loop"
   ]
  },
  {
   "cell_type": "markdown",
   "metadata": {},
   "source": [
    "# Final Project"
   ]
  },
  {
   "cell_type": "markdown",
   "metadata": {},
   "source": [
    "HI this is your investment personal guide \n",
    "What's your name buddy?? \n",
    "\n",
    "Nice to meet you _Name_ i'll show you why you here, and how investment importanant to your life, can you please give me your monthy saving or the number in mind _Num_\n",
    "\n",
    "Perfect! this is the example result from the different place that you place your money 20 year from now\n",
    "why 20 yaers? , because after year 20 the risk almost 0% for you to get loose on investment \n",
    "Bank : _Num_ * _%_\n",
    "Fund : _Num_ * _%_\n",
    "Stocks : _Num_ * _%_\n",
    "Crypto : _Num_ * _%_\n",
    "\n",
    "** The higher risk return will come with high down side too, we can protect it by your investment knowladge, that no need cal1 knowladge or any IELTS test and the risk just the word for have no knowladge people, but investment world is much more beatiful, don't scared of the textbook name Risk they don't want you to be rich remember \n",
    "\n",
    "Tap to continue \n",
    "\n",
    "now your turn i'll help you to make a plan \n",
    "fist i'll help you match with your standard reccmomend risk \n",
    "\n",
    "this is  the reccommend risk for you ...\n",
    "\n",
    "next what is your plan __str__\n",
    "\n",
    "perfect! how long until you goals __str__\n",
    "\n",
    "what is your monthly saving \n",
    "\n",
    "you need to find asset that can gennerated ___ prcend of invest ment \n",
    "\n",
    "\n",
    "\n",
    "\n",
    "\n",
    "\n"
   ]
  },
  {
   "cell_type": "code",
   "execution_count": null,
   "metadata": {},
   "outputs": [],
   "source": []
  },
  {
   "cell_type": "code",
   "execution_count": 1,
   "metadata": {},
   "outputs": [],
   "source": []
  }
 ],
 "metadata": {
  "kernelspec": {
   "display_name": "base",
   "language": "python",
   "name": "python3"
  },
  "language_info": {
   "codemirror_mode": {
    "name": "ipython",
    "version": 3
   },
   "file_extension": ".py",
   "mimetype": "text/x-python",
   "name": "python",
   "nbconvert_exporter": "python",
   "pygments_lexer": "ipython3",
   "version": "3.12.6"
  }
 },
 "nbformat": 4,
 "nbformat_minor": 2
}
