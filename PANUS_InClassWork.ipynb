{
 "cells": [
  {
   "cell_type": "markdown",
   "metadata": {},
   "source": [
    "# Classwork 12 SEP\n"
   ]
  },
  {
   "cell_type": "markdown",
   "metadata": {},
   "source": [
    "### Covert Celcius to F & K & R"
   ]
  },
  {
   "cell_type": "code",
   "execution_count": 1,
   "metadata": {},
   "outputs": [
    {
     "name": "stdout",
     "output_type": "stream",
     "text": [
      "Fahrenheit = 68.0\n",
      "Kelvin = 293.5\n",
      "Rankine = 16.0\n"
     ]
    }
   ],
   "source": [
    "C = float(input(\"Celsius\")) \n",
    "F = ((C * 9) / 5 ) + 32 \n",
    "print(\"Fahrenheit =\", F )\n",
    "K = 273.5 + C \n",
    "print(\"Kelvin =\", (K))\n",
    "R = (C * 4) / 5 \n",
    "print(\"Rankine =\", R)"
   ]
  },
  {
   "cell_type": "markdown",
   "metadata": {},
   "source": [
    "### Convert age to bith year"
   ]
  },
  {
   "cell_type": "code",
   "execution_count": 2,
   "metadata": {},
   "outputs": [
    {
     "name": "stdout",
     "output_type": "stream",
     "text": [
      "Your birth year on A.D. =  2005\n",
      "Your birth year on B.E. =  2548\n"
     ]
    }
   ],
   "source": [
    "yearold = int(input(\"Put your age here\"))\n",
    "AD = 2024 -yearold\n",
    "print(\"Your birth year on A.D. = \",  AD)\n",
    "BE = 2567 -yearold\n",
    "print(\"Your birth year on B.E. = \", BE)"
   ]
  },
  {
   "cell_type": "code",
   "execution_count": null,
   "metadata": {},
   "outputs": [],
   "source": [
    "T = int(input())\n",
    "if T > 35:\n",
    "    print(\"CANCEL SCHOOL\")\n",
    "elif T > 30:\n",
    "    print(\"CANCEL TWO CLASSES\")\n",
    "else: \n",
    "    print(\"NORMAL CLASSES\")"
   ]
  },
  {
   "cell_type": "code",
   "execution_count": 1,
   "metadata": {},
   "outputs": [
    {
     "name": "stdout",
     "output_type": "stream",
     "text": [
      "17\n"
     ]
    }
   ],
   "source": [
    "chest1 = int(input())\n",
    "chest2 = int(input())\n",
    "chest3 = int(input())\n",
    "sum1=chest1 + chest2\n",
    "sum2=chest1 + chest3 \n",
    "sum3=chest2 + chest3 \n",
    "\n",
    "print (max(sum1, sum2, sum3))\n",
    "    \n",
    "\n"
   ]
  }
 ],
 "metadata": {
  "kernelspec": {
   "display_name": "gun_python",
   "language": "python",
   "name": "python3"
  },
  "language_info": {
   "codemirror_mode": {
    "name": "ipython",
    "version": 3
   },
   "file_extension": ".py",
   "mimetype": "text/x-python",
   "name": "python",
   "nbconvert_exporter": "python",
   "pygments_lexer": "ipython3",
   "version": "3.12.6"
  }
 },
 "nbformat": 4,
 "nbformat_minor": 2
}
