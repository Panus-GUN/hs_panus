{
 "cells": [
  {
   "cell_type": "markdown",
   "metadata": {},
   "source": [
    "# Data Type"
   ]
  },
  {
   "cell_type": "markdown",
   "metadata": {},
   "source": [
    "### FLOAT (float)"
   ]
  },
  {
   "cell_type": "code",
   "execution_count": null,
   "metadata": {},
   "outputs": [],
   "source": [
    "Example :\n",
    "gpa = 4.00\n",
    "distance = 2.5 \n",
    "price = 10.90\n",
    "\n",
    "print(f\"Your gpa is {gpa}\")\n",
    "print(f\"You ran {distance}Km\")\n",
    "print(f\"The price is ${price}\")\n",
    "\n",
    "with the number that contain a decimal portion"
   ]
  },
  {
   "cell_type": "markdown",
   "metadata": {},
   "source": [
    "### STRING 9(str)\n"
   ]
  },
  {
   "cell_type": "code",
   "execution_count": null,
   "metadata": {},
   "outputs": [],
   "source": [
    "Example :\n",
    "name = \"Bro\"\n",
    "food = \"pizza\"\n",
    "eamil = \"Bro123@gmail.com\"\n",
    "\n",
    "print(f\"Hello{name}\")\n",
    "print(f\"You like {food}\")\n",
    "print(f\"Your email is: {email}\")\n",
    "\n",
    "series of text like a name or an eamil \n",
    "letters, numbers, symbols"
   ]
  },
  {
   "cell_type": "markdown",
   "metadata": {},
   "source": [
    "### BOOLEAN (bool)"
   ]
  },
  {
   "cell_type": "code",
   "execution_count": null,
   "metadata": {},
   "outputs": [],
   "source": [
    "Example :\n",
    "online = True\n",
    "for_sale = False \n",
    "running = true \n",
    "\n",
    "print(f\"Are you online?: {online}\")\n",
    "print(f\"Is this item for sale: {for_sale}\")\n",
    "print(f\"Game running: {running}\")\n",
    "\n",
    "True or Fale they are binary "
   ]
  },
  {
   "cell_type": "code",
   "execution_count": null,
   "metadata": {},
   "outputs": [],
   "source": [
    "print(\"nona = none \")"
   ]
  },
  {
   "cell_type": "code",
   "execution_count": null,
   "metadata": {},
   "outputs": [],
   "source": [
    "\"\"\"\n",
    "this is multiple line code format \n",
    "this is multiple line code format \n",
    "this is multiple line code format \n",
    "\"\"\""
   ]
  },
  {
   "cell_type": "markdown",
   "metadata": {},
   "source": [
    "### Type Checking"
   ]
  },
  {
   "cell_type": "code",
   "execution_count": null,
   "metadata": {},
   "outputs": [],
   "source": [
    "type(put here)\n",
    "\n",
    "Example ; \n",
    "\n",
    "type(5)\n",
    "print(type(5))\n",
    "print(\"Helo I'm Gun newbie for coding\")\n",
    "isinstance(-1, int)"
   ]
  },
  {
   "cell_type": "markdown",
   "metadata": {},
   "source": [
    "## Summary of Common Python Data Type"
   ]
  },
  {
   "cell_type": "code",
   "execution_count": null,
   "metadata": {},
   "outputs": [],
   "source": [
    "- **int**: Whole numbers, e.g., `5`\n",
    "- **float**: Decimal numbers, e.g., `3.14`\n",
    "- **str**: Strings of text, e.g., `\"Hello\"`\n",
    "- **bool**: Booleans, either `True` or `False`\n",
    "- **list**: A collection of items, e.g., `[1, 2, 3]`\n",
    "- **tuple**: Like a list, but immutable, e.g., `(1, 2, 3)`\n",
    "- **dict**: A collection of key-value pairs, e.g., `{\"name\": \"Alice\", \"age\": 25}`\n",
    "- **None**: Represents the absence of a value"
   ]
  },
  {
   "cell_type": "markdown",
   "metadata": {},
   "source": [
    "### Example of put data"
   ]
  },
  {
   "cell_type": "code",
   "execution_count": 41,
   "metadata": {},
   "outputs": [
    {
     "name": "stdout",
     "output_type": "stream",
     "text": [
      "19\n",
      "1\n"
     ]
    }
   ],
   "source": [
    "age = 19\n",
    "firstname = \"Panus\"\n",
    "print(age)\n",
    "\n",
    "first_number = 1\n",
    "second_number = 2 \n",
    "\n",
    "Age = 17 #Bad \n",
    "first_number = 1 #Good\n",
    "_1jnrfk = 2 #Bad "
   ]
  },
  {
   "cell_type": "markdown",
   "metadata": {},
   "source": [
    "### Reserved words"
   ]
  },
  {
   "cell_type": "code",
   "execution_count": null,
   "metadata": {},
   "outputs": [],
   "source": [
    "False      await      else       import     pass\n",
    "None       break      except     in         raise\n",
    "True       class      finally    is         return\n",
    "and        continue   for        lambda     try\n",
    "as         def        from       nonlocal   while\n",
    "assert     del        global     not        with\n",
    "async      elif       if         or         yield"
   ]
  },
  {
   "cell_type": "code",
   "execution_count": 47,
   "metadata": {},
   "outputs": [
    {
     "name": "stdout",
     "output_type": "stream",
     "text": [
      "Hello, welcome gun\n"
     ]
    }
   ],
   "source": [
    "name_input = input(\"Please inter your anme here\")\n",
    "print(\"Hello, welcome\", name_input)"
   ]
  },
  {
   "cell_type": "code",
   "execution_count": null,
   "metadata": {},
   "outputs": [],
   "source": [
    "name_input = input(\"Please inter your anme here\")\n",
    "print(\"Hello, welcome\", name_input)\n",
    "\n",
    "#Make people know where to put the input "
   ]
  },
  {
   "cell_type": "code",
   "execution_count": 60,
   "metadata": {},
   "outputs": [
    {
     "name": "stdout",
     "output_type": "stream",
     "text": [
      "1 <class 'int'>\n"
     ]
    }
   ],
   "source": [
    "#covert the str in to int/ so tell int in front \n",
    "#you can't convert srt \"float,bool\" to int, cuz int can run just the whole number  \n",
    "a = int(\"4\")\n",
    "a = int(\"-1\")\n",
    "a = int(True) \n",
    "print(a, type(a))"
   ]
  },
  {
   "cell_type": "code",
   "execution_count": 73,
   "metadata": {},
   "outputs": [
    {
     "name": "stdout",
     "output_type": "stream",
     "text": [
      "1.0 <class 'float'>\n",
      "0.0 <class 'float'>\n",
      "10.0 <class 'float'>\n"
     ]
    }
   ],
   "source": [
    "#convert to float \n",
    "a = float(True)\n",
    "print(a, type(a))\n",
    "a = float(False)\n",
    "print(a, type(a))\n",
    "a = float(10)\n",
    "print(a, type(a))"
   ]
  },
  {
   "cell_type": "code",
   "execution_count": 74,
   "metadata": {},
   "outputs": [
    {
     "name": "stdout",
     "output_type": "stream",
     "text": [
      "True <class 'bool'>\n",
      "False <class 'bool'>\n",
      "False <class 'bool'>\n"
     ]
    }
   ],
   "source": [
    "#convert to bool \n",
    "a = bool(3)\n",
    "print(a, type(a))\n",
    "a = bool(\"\")\n",
    "print(a, type(a))\n",
    "a = bool(0.0)\n",
    "print(a, type(a))"
   ]
  },
  {
   "cell_type": "code",
   "execution_count": 75,
   "metadata": {},
   "outputs": [
    {
     "name": "stdout",
     "output_type": "stream",
     "text": [
      "1 <class 'str'>\n",
      "True <class 'str'>\n",
      "0.11 <class 'str'>\n"
     ]
    }
   ],
   "source": [
    "# srt #everything could be srt with out \"\"\n",
    "a = str(1)\n",
    "print(a, type(a))\n",
    "a = str(True)\n",
    "print(a, type(a))\n",
    "a = str(0.11)\n",
    "print(a, type(a))"
   ]
  },
  {
   "cell_type": "markdown",
   "metadata": {},
   "source": [
    "## Math Operation"
   ]
  },
  {
   "cell_type": "code",
   "execution_count": 35,
   "metadata": {},
   "outputs": [
    {
     "name": "stdout",
     "output_type": "stream",
     "text": [
      "1.) บวก  =  2\n",
      "2.) ลบ =  3\n",
      "3.) คูณ  =  20\n",
      "4.) หารได้ float =  2.0\n",
      "5.) หารเอาเศษ int =  1\n",
      "6.) ยกกำลัง =  8\n",
      "7.) ยกกำลัง 0 =  1\n",
      "8.) หาร int ได้คำตอบ int  =  2\n",
      "9.) หาร float ได้คำตอบ float =  1.0\n",
      "10.) ปัดเศษ =  12.0\n",
      "12.0\n"
     ]
    }
   ],
   "source": [
    "a = 1 + 1\n",
    "print(\"1.) บวก  = \", a)\n",
    "\n",
    "a = 6 - 3\n",
    "print(\"2.) ลบ = \", a)\n",
    "\n",
    "a = 4 * 5\n",
    "print(\"3.) คูณ  = \", a)\n",
    "\n",
    "a = 6 / 3 #หารปกติ\n",
    "print(\"4.) หารได้ float = \", a)\n",
    "\n",
    "a = 7 % 3 #หารเอาเศษ\n",
    "print(\"5.) หารเอาเศษ int = \", a)\n",
    "\n",
    "a = 2 ** 3 #ยกกำลัง\n",
    "print(\"6.) ยกกำลัง = \", a)\n",
    "\n",
    "a = 0 ** 0 #ยกกำลัง\n",
    "print(\"7.) ยกกำลัง 0 = \", a)\n",
    "\n",
    "a = 6 // 3 #หารเอาคำตอบ\n",
    "print(\"8.) หาร int ได้คำตอบ int  = \", a)\n",
    "\n",
    "a = 2.5 // 2.5 #หารเอาคำตอบ ถ้า float คำตอบก็จะเป็น float\n",
    "print(\"9.) หาร float ได้คำตอบ float = \", a)\n",
    "\n",
    "\n",
    "# python give the float number as a default "
   ]
  },
  {
   "cell_type": "code",
   "execution_count": 16,
   "metadata": {},
   "outputs": [
    {
     "data": {
      "text/plain": [
       "12.0"
      ]
     },
     "execution_count": 16,
     "metadata": {},
     "output_type": "execute_result"
    }
   ],
   "source": [
    "# 12.9 -> 12.0\n",
    "\n",
    "float(int(12.9))\n",
    "12.9 // 1\n",
    "\n",
    "# both have the same meaning value "
   ]
  },
  {
   "cell_type": "markdown",
   "metadata": {},
   "source": [
    "## Order of Operation "
   ]
  },
  {
   "cell_type": "code",
   "execution_count": 36,
   "metadata": {},
   "outputs": [],
   "source": [
    "# operation order () -> ** -> */ -> +- \n",
    "#Inportantial order \n",
    "a = 2 * 2 - 2 / 2 - 2**2\n",
    "b = 2*2 - 2 / 2 - 2**2 \n",
    "c = 4 - 1.0 - 4 \n",
    "d = -1.0 \n"
   ]
  },
  {
   "cell_type": "code",
   "execution_count": 37,
   "metadata": {},
   "outputs": [
    {
     "name": "stdout",
     "output_type": "stream",
     "text": [
      "0.5\n"
     ]
    }
   ],
   "source": [
    "# ตัวอย่างสมการ\n",
    "a = 4 + 4\n",
    "b = 3 * 2 \n",
    "\n",
    "a = a + 4\n",
    "a = b / a \n",
    "print(a)"
   ]
  },
  {
   "cell_type": "code",
   "execution_count": 110,
   "metadata": {},
   "outputs": [],
   "source": [
    "a = a + 4 #same \n",
    "a += 4 # same as the first line \n",
    "\n",
    "# both are the same meaning just the short cut  \n",
    "# just replaced the same position for other + * / "
   ]
  },
  {
   "cell_type": "markdown",
   "metadata": {},
   "source": [
    "## Logical Operators "
   ]
  },
  {
   "cell_type": "code",
   "execution_count": 116,
   "metadata": {},
   "outputs": [
    {
     "data": {
      "text/plain": [
       "True"
      ]
     },
     "execution_count": 116,
     "metadata": {},
     "output_type": "execute_result"
    }
   ],
   "source": [
    "a == 6 #compare bot of value \n",
    "a >= 5 #มากกว่าหรือเท่่ากับ \n",
    "a <= 2 #น้อยกว่าหรือเท่ากับ \n",
    "a != 2 #แปลว่าไม่เท่ากับ "
   ]
  },
  {
   "cell_type": "code",
   "execution_count": 118,
   "metadata": {},
   "outputs": [
    {
     "name": "stdout",
     "output_type": "stream",
     "text": [
      "8\n"
     ]
    }
   ],
   "source": [
    "a = 5 ** 2 // 3 # ** ยกกำลัง # // หารเอาแต่ค่า \n",
    "b = int(isinstance(a, int)) #check that a , int เป็น type เดียวกันไหม \n",
    "# isinstance เป็น  bool ค้่าของ a, int เท่ากันเลยเป็น true, so true ของ int คือ 1 \n",
    "a += b #mean บวกกัน a = a + b \n",
    "print(a-b) #a=9 , b=1 "
   ]
  },
  {
   "cell_type": "markdown",
   "metadata": {},
   "source": [
    "## ตรรกศาสตร์"
   ]
  },
  {
   "cell_type": "code",
   "execution_count": 130,
   "metadata": {},
   "outputs": [
    {
     "data": {
      "text/plain": [
       "('gun', 'gun')"
      ]
     },
     "execution_count": 130,
     "metadata": {},
     "output_type": "execute_result"
    }
   ],
   "source": [
    "# not, and ,or \n",
    "not(True) \n",
    "not(False)\n",
    "\n",
    "user_age = input()\n",
    "user_firstname = input()\n",
    "user_age, user_firstname \n"
   ]
  },
  {
   "cell_type": "markdown",
   "metadata": {},
   "source": [
    "## Adder Program"
   ]
  },
  {
   "cell_type": "code",
   "execution_count": 135,
   "metadata": {},
   "outputs": [
    {
     "name": "stdout",
     "output_type": "stream",
     "text": [
      "6\n"
     ]
    }
   ],
   "source": [
    "first_number = int(input())\n",
    "second_number = int(input())\n",
    "#print(fisrt_number, Second_number)\n",
    "added_result = first_number + second_number \n",
    "print(added_result)\n"
   ]
  },
  {
   "cell_type": "markdown",
   "metadata": {},
   "source": [
    "## Math Function"
   ]
  },
  {
   "cell_type": "code",
   "execution_count": 191,
   "metadata": {},
   "outputs": [
    {
     "data": {
      "text/plain": [
       "1"
      ]
     },
     "execution_count": 191,
     "metadata": {},
     "output_type": "execute_result"
    }
   ],
   "source": [
    "abs(-1) #absolute number "
   ]
  },
  {
   "cell_type": "code",
   "execution_count": 193,
   "metadata": {},
   "outputs": [
    {
     "data": {
      "text/plain": [
       "-2"
      ]
     },
     "execution_count": 193,
     "metadata": {},
     "output_type": "execute_result"
    }
   ],
   "source": [
    "max(23, 5, -2, 0)\n",
    "min(23, 5, -2, 0)"
   ]
  },
  {
   "cell_type": "code",
   "execution_count": 199,
   "metadata": {},
   "outputs": [
    {
     "data": {
      "text/plain": [
       "2.5"
      ]
     },
     "execution_count": 199,
     "metadata": {},
     "output_type": "execute_result"
    }
   ],
   "source": [
    "round(2.45) #ปัดเป็น int\n",
    "round(2.45, 1) # 1 ข้างลังหมายความว่า ปัด1 ตำแหน่ง"
   ]
  },
  {
   "cell_type": "markdown",
   "metadata": {},
   "source": [
    "# Conclusion The Order Type "
   ]
  },
  {
   "cell_type": "markdown",
   "metadata": {},
   "source": [
    "### 1. Basic Setup Command"
   ]
  },
  {
   "cell_type": "code",
   "execution_count": null,
   "metadata": {},
   "outputs": [],
   "source": [
    "turtle.speed(10)\n",
    "turtle.shape('turtle')\n",
    "turtle.bgcolor('black')"
   ]
  },
  {
   "cell_type": "markdown",
   "metadata": {},
   "source": [
    "### 2. Pen Control Commands"
   ]
  },
  {
   "cell_type": "code",
   "execution_count": null,
   "metadata": {},
   "outputs": [],
   "source": [
    "turtle.penup()\n",
    "turtle.goto(-210, 200)\n",
    "turtle.pendown()"
   ]
  },
  {
   "cell_type": "markdown",
   "metadata": {},
   "source": [
    "### 3. Movement Commands "
   ]
  },
  {
   "cell_type": "code",
   "execution_count": null,
   "metadata": {},
   "outputs": [],
   "source": [
    "turtle.forward(500)\n",
    "turtle.right(144)"
   ]
  },
  {
   "cell_type": "markdown",
   "metadata": {},
   "source": [
    "### 4. Filling Shapes"
   ]
  },
  {
   "cell_type": "code",
   "execution_count": null,
   "metadata": {},
   "outputs": [],
   "source": [
    "turtle.begin_fill()\n",
    "# Drawing commands\n",
    "turtle.end_fill()\n"
   ]
  },
  {
   "cell_type": "markdown",
   "metadata": {},
   "source": [
    "### 5. Text Commands"
   ]
  },
  {
   "cell_type": "code",
   "execution_count": null,
   "metadata": {},
   "outputs": [],
   "source": [
    "turtle.color('yellow')\n",
    "turtle.write(\"STARDEE\", font=(\"Courier\", 100, \"bold\"))\n",
    " "
   ]
  },
  {
   "cell_type": "code",
   "execution_count": null,
   "metadata": {},
   "outputs": [],
   "source": [
    "turtle.mainloop() # Keep the window open until closed manually\n"
   ]
  },
  {
   "cell_type": "markdown",
   "metadata": {},
   "source": [
    "## Day 5"
   ]
  },
  {
   "cell_type": "code",
   "execution_count": null,
   "metadata": {
    "vscode": {
     "languageId": "powershell"
    }
   },
   "outputs": [],
   "source": [
    "PI = 3.14\n",
    "MATH_E = 2.7\n",
    "API_LINK = ''"
   ]
  },
  {
   "cell_type": "markdown",
   "metadata": {},
   "source": [
    "### Coditionals"
   ]
  },
  {
   "cell_type": "code",
   "execution_count": 13,
   "metadata": {},
   "outputs": [
    {
     "name": "stdout",
     "output_type": "stream",
     "text": [
      "1.) print cuz true\n",
      "2.) print cuz true\n",
      "2.1.) Always print\n",
      "3.) print cuz true true\n"
     ]
    }
   ],
   "source": [
    "#if CONDITON: \n",
    "    #DO_SOMETHING\n",
    "\n",
    "#if True\n",
    "    #Do print \n",
    "\n",
    "#if False\n",
    "    #Doesn't print \n",
    "\n",
    "#Base Example \n",
    "\n",
    "if (5 > 3):\n",
    "    print(\"1.) print cuz true\")\n",
    "\n",
    "if (5 > 3):\n",
    "    print(\"2.) print cuz true\")\n",
    "print(\"2.1.) Always print\")\n",
    "\n",
    "if (5 > 3):\n",
    "    if (5 > 1):\n",
    "        print(\"3.) print cuz true true\")"
   ]
  },
  {
   "cell_type": "code",
   "execution_count": 18,
   "metadata": {},
   "outputs": [
    {
     "name": "stdout",
     "output_type": "stream",
     "text": [
      "OMG Complex\n",
      "OMG Easier\n"
     ]
    }
   ],
   "source": [
    "# Example of make it shorter and easier COMBINE\n",
    "if 2 != 3:\n",
    "    if 3!= 4:\n",
    "        if 4 != 5:\n",
    "            if 5 != 6:\n",
    "                if 6 != 7:\n",
    "                    print(\"OMG Complex\")\n",
    "\n",
    "if 2 != 3 and 3 != 4 and 4 != 5 and 5 != 6 and 6 !=7: \n",
    "    print(\"OMG Easier\")"
   ]
  },
  {
   "cell_type": "markdown",
   "metadata": {},
   "source": [
    "## Else\n",
    "### stand for if \"if\" are not then do \"Else\"\n"
   ]
  },
  {
   "cell_type": "code",
   "execution_count": 21,
   "metadata": {},
   "outputs": [
    {
     "name": "stdout",
     "output_type": "stream",
     "text": [
      "print from else cuz first are false\n"
     ]
    }
   ],
   "source": [
    "if 4 > 5:\n",
    "    print(\"NO BODY\")\n",
    "else:\n",
    "    print(\"print from else cuz first are false\")\n"
   ]
  },
  {
   "cell_type": "markdown",
   "metadata": {},
   "source": [
    "## Elif\n",
    "### For put more another conditon with it\n",
    "### and it will be prin he ealier that true "
   ]
  },
  {
   "cell_type": "code",
   "execution_count": 24,
   "metadata": {},
   "outputs": [
    {
     "name": "stdout",
     "output_type": "stream",
     "text": [
      "C\n"
     ]
    }
   ],
   "source": [
    "if 2 > 3:\n",
    "    print(\"A\")\n",
    "elif 3 > 4:\n",
    "    print(B)\n",
    "elif 4 < 5:\n",
    "    print(\"C\")\n",
    "else:\n",
    "    print(\"D\")"
   ]
  }
 ],
 "metadata": {
  "kernelspec": {
   "display_name": "base",
   "language": "python",
   "name": "python3"
  },
  "language_info": {
   "codemirror_mode": {
    "name": "ipython",
    "version": 3
   },
   "file_extension": ".py",
   "mimetype": "text/x-python",
   "name": "python",
   "nbconvert_exporter": "python",
   "pygments_lexer": "ipython3",
   "version": "3.12.6"
  }
 },
 "nbformat": 4,
 "nbformat_minor": 2
}
